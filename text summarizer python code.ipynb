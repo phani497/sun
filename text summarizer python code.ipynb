{
 "cells": [
  {
   "cell_type": "code",
   "execution_count": 4,
   "metadata": {},
   "outputs": [],
   "source": [
    "#Loading Packages-->\n",
    "import spacy"
   ]
  },
  {
   "cell_type": "code",
   "execution_count": 5,
   "metadata": {},
   "outputs": [],
   "source": [
    "# Text Preprocessing Packages-->\n",
    "from spacy.lang.en.stop_words import STOP_WORDS\n",
    "from string import punctuation"
   ]
  },
  {
   "cell_type": "code",
   "execution_count": 6,
   "metadata": {},
   "outputs": [],
   "source": [
    "# Build a List of Stopwords-->\n",
    "stopwords = list(STOP_WORDS)"
   ]
  },
  {
   "cell_type": "code",
   "execution_count": 7,
   "metadata": {},
   "outputs": [],
   "source": [
    "doc1=\"\"\"A salt seller used to carry the salt bag on his donkey to the market every day.\n",
    "\n",
    "On the way they had to cross a stream. One day the donkey suddenly tumbled down the stream and the salt bag also fell into the water. The salt dissolved in the water and hence the bag became very light to carry. The donkey was happy.\n",
    "\n",
    "Then the donkey started to play the same trick every day.\n",
    "\n",
    "The salt seller came to understand the trick and decided to teach a lesson to it. The next day he loaded a cotton bag on the donkey.\n",
    "\n",
    "Again it played the same trick hoping that the cotton bag would be still become lighter.\n",
    "\n",
    "But the dampened cotton became very heavy to carry and the donkey suffered. It learnt a lesson. It didn’t play the trick anymore after that day, and the seller was happy.\"\"\""
   ]
  },
  {
   "cell_type": "code",
   "execution_count": 20,
   "metadata": {},
   "outputs": [],
   "source": [
    "nlp =spacy.load('en_core_web_sm')"
   ]
  },
  {
   "cell_type": "code",
   "execution_count": 22,
   "metadata": {},
   "outputs": [],
   "source": [
    "#Building an NLP object-->\n",
    "docx = nlp(doc1)"
   ]
  },
  {
   "cell_type": "code",
   "execution_count": 27,
   "metadata": {},
   "outputs": [],
   "source": [
    "# Tokenization of Text\n",
    "mytokens = [token.text for token in docx]"
   ]
  },
  {
   "cell_type": "code",
   "execution_count": 30,
   "metadata": {},
   "outputs": [],
   "source": [
    "#For calculating the frequencies of each word that are not the stopwords-->\n",
    "word_freq={}\n",
    "for word in docx:\n",
    "        if word.text not in stopwords:\n",
    "            if word.text not in word_freq.keys():\n",
    "                word_freq[word.text]=1;\n",
    "                \n",
    "            else:\n",
    "                word_freq[word.text]+=1;"
   ]
  },
  {
   "cell_type": "code",
   "execution_count": 50,
   "metadata": {},
   "outputs": [
    {
     "data": {
      "text/plain": [
       "{'A': 0.08333333333333333,\n",
       " 'salt': 0.4166666666666667,\n",
       " 'seller': 0.25,\n",
       " 'carry': 0.25,\n",
       " 'bag': 0.4166666666666667,\n",
       " 'donkey': 0.5,\n",
       " 'market': 0.08333333333333333,\n",
       " 'day': 0.4166666666666667,\n",
       " '.': 1.0,\n",
       " '\\n\\n': 0.4166666666666667,\n",
       " 'On': 0.08333333333333333,\n",
       " 'way': 0.08333333333333333,\n",
       " 'cross': 0.08333333333333333,\n",
       " 'stream': 0.16666666666666666,\n",
       " 'One': 0.08333333333333333,\n",
       " 'suddenly': 0.08333333333333333,\n",
       " 'tumbled': 0.08333333333333333,\n",
       " 'fell': 0.08333333333333333,\n",
       " 'water': 0.16666666666666666,\n",
       " 'The': 0.3333333333333333,\n",
       " 'dissolved': 0.08333333333333333,\n",
       " 'light': 0.08333333333333333,\n",
       " 'happy': 0.16666666666666666,\n",
       " 'Then': 0.08333333333333333,\n",
       " 'started': 0.08333333333333333,\n",
       " 'play': 0.16666666666666666,\n",
       " 'trick': 0.3333333333333333,\n",
       " 'came': 0.08333333333333333,\n",
       " 'understand': 0.08333333333333333,\n",
       " 'decided': 0.08333333333333333,\n",
       " 'teach': 0.08333333333333333,\n",
       " 'lesson': 0.16666666666666666,\n",
       " 'loaded': 0.08333333333333333,\n",
       " 'cotton': 0.25,\n",
       " 'Again': 0.08333333333333333,\n",
       " 'played': 0.08333333333333333,\n",
       " 'hoping': 0.08333333333333333,\n",
       " 'lighter': 0.08333333333333333,\n",
       " 'But': 0.08333333333333333,\n",
       " 'dampened': 0.08333333333333333,\n",
       " 'heavy': 0.08333333333333333,\n",
       " 'suffered': 0.08333333333333333,\n",
       " 'It': 0.16666666666666666,\n",
       " 'learnt': 0.08333333333333333,\n",
       " 'anymore': 0.08333333333333333,\n",
       " ',': 0.08333333333333333}"
      ]
     },
     "execution_count": 50,
     "metadata": {},
     "output_type": "execute_result"
    }
   ],
   "source": [
    "#Here are all the word frequencies-->\n",
    "word_freq"
   ]
  },
  {
   "cell_type": "code",
   "execution_count": 51,
   "metadata": {},
   "outputs": [],
   "source": [
    "max_freq=max(word_freq.values())\n",
    "\n",
    "for word in word_freq:\n",
    "    word_freq[word]=(word_freq[word]/max_freq)"
   ]
  },
  {
   "cell_type": "code",
   "execution_count": 54,
   "metadata": {},
   "outputs": [
    {
     "name": "stdout",
     "output_type": "stream",
     "text": [
      "{'A': 0.08333333333333333, 'salt': 0.4166666666666667, 'seller': 0.25, 'carry': 0.25, 'bag': 0.4166666666666667, 'donkey': 0.5, 'market': 0.08333333333333333, 'day': 0.4166666666666667, '.': 1.0, '\\n\\n': 0.4166666666666667, 'On': 0.08333333333333333, 'way': 0.08333333333333333, 'cross': 0.08333333333333333, 'stream': 0.16666666666666666, 'One': 0.08333333333333333, 'suddenly': 0.08333333333333333, 'tumbled': 0.08333333333333333, 'fell': 0.08333333333333333, 'water': 0.16666666666666666, 'The': 0.3333333333333333, 'dissolved': 0.08333333333333333, 'light': 0.08333333333333333, 'happy': 0.16666666666666666, 'Then': 0.08333333333333333, 'started': 0.08333333333333333, 'play': 0.16666666666666666, 'trick': 0.3333333333333333, 'came': 0.08333333333333333, 'understand': 0.08333333333333333, 'decided': 0.08333333333333333, 'teach': 0.08333333333333333, 'lesson': 0.16666666666666666, 'loaded': 0.08333333333333333, 'cotton': 0.25, 'Again': 0.08333333333333333, 'played': 0.08333333333333333, 'hoping': 0.08333333333333333, 'lighter': 0.08333333333333333, 'But': 0.08333333333333333, 'dampened': 0.08333333333333333, 'heavy': 0.08333333333333333, 'suffered': 0.08333333333333333, 'It': 0.16666666666666666, 'learnt': 0.08333333333333333, 'anymore': 0.08333333333333333, ',': 0.08333333333333333}\n"
     ]
    }
   ],
   "source": [
    "print(word_freq)"
   ]
  },
  {
   "cell_type": "code",
   "execution_count": 55,
   "metadata": {},
   "outputs": [],
   "source": [
    "# Sentence Tokens-->\n",
    "sentence_list = [ sentence for sentence in docx.sents]"
   ]
  },
  {
   "cell_type": "code",
   "execution_count": 56,
   "metadata": {},
   "outputs": [
    {
     "data": {
      "text/plain": [
       "['a',\n",
       " 'salt',\n",
       " 'seller',\n",
       " 'used',\n",
       " 'to',\n",
       " 'carry',\n",
       " 'the',\n",
       " 'salt',\n",
       " 'bag',\n",
       " 'on',\n",
       " 'his',\n",
       " 'donkey',\n",
       " 'to',\n",
       " 'the',\n",
       " 'market',\n",
       " 'every',\n",
       " 'day',\n",
       " '.',\n",
       " '\\n\\n',\n",
       " 'on',\n",
       " 'the',\n",
       " 'way',\n",
       " 'they',\n",
       " 'had',\n",
       " 'to',\n",
       " 'cross',\n",
       " 'a',\n",
       " 'stream',\n",
       " '.',\n",
       " 'one',\n",
       " 'day',\n",
       " 'the',\n",
       " 'donkey',\n",
       " 'suddenly',\n",
       " 'tumbled',\n",
       " 'down',\n",
       " 'the',\n",
       " 'stream',\n",
       " 'and',\n",
       " 'the',\n",
       " 'salt',\n",
       " 'bag',\n",
       " 'also',\n",
       " 'fell',\n",
       " 'into',\n",
       " 'the',\n",
       " 'water',\n",
       " '.',\n",
       " 'the',\n",
       " 'salt',\n",
       " 'dissolved',\n",
       " 'in',\n",
       " 'the',\n",
       " 'water',\n",
       " 'and',\n",
       " 'hence',\n",
       " 'the',\n",
       " 'bag',\n",
       " 'became',\n",
       " 'very',\n",
       " 'light',\n",
       " 'to',\n",
       " 'carry',\n",
       " '.',\n",
       " 'the',\n",
       " 'donkey',\n",
       " 'was',\n",
       " 'happy',\n",
       " '.',\n",
       " '\\n\\n',\n",
       " 'then',\n",
       " 'the',\n",
       " 'donkey',\n",
       " 'started',\n",
       " 'to',\n",
       " 'play',\n",
       " 'the',\n",
       " 'same',\n",
       " 'trick',\n",
       " 'every',\n",
       " 'day',\n",
       " '.',\n",
       " '\\n\\n',\n",
       " 'the',\n",
       " 'salt',\n",
       " 'seller',\n",
       " 'came',\n",
       " 'to',\n",
       " 'understand',\n",
       " 'the',\n",
       " 'trick',\n",
       " 'and',\n",
       " 'decided',\n",
       " 'to',\n",
       " 'teach',\n",
       " 'a',\n",
       " 'lesson',\n",
       " 'to',\n",
       " 'it',\n",
       " '.',\n",
       " 'the',\n",
       " 'next',\n",
       " 'day',\n",
       " 'he',\n",
       " 'loaded',\n",
       " 'a',\n",
       " 'cotton',\n",
       " 'bag',\n",
       " 'on',\n",
       " 'the',\n",
       " 'donkey',\n",
       " '.',\n",
       " '\\n\\n',\n",
       " 'again',\n",
       " 'it',\n",
       " 'played',\n",
       " 'the',\n",
       " 'same',\n",
       " 'trick',\n",
       " 'hoping',\n",
       " 'that',\n",
       " 'the',\n",
       " 'cotton',\n",
       " 'bag',\n",
       " 'would',\n",
       " 'be',\n",
       " 'still',\n",
       " 'become',\n",
       " 'lighter',\n",
       " '.',\n",
       " '\\n\\n',\n",
       " 'but',\n",
       " 'the',\n",
       " 'dampened',\n",
       " 'cotton',\n",
       " 'became',\n",
       " 'very',\n",
       " 'heavy',\n",
       " 'to',\n",
       " 'carry',\n",
       " 'and',\n",
       " 'the',\n",
       " 'donkey',\n",
       " 'suffered',\n",
       " '.',\n",
       " 'it',\n",
       " 'learnt',\n",
       " 'a',\n",
       " 'lesson',\n",
       " '.',\n",
       " 'it',\n",
       " 'did',\n",
       " 'n’t',\n",
       " 'play',\n",
       " 'the',\n",
       " 'trick',\n",
       " 'anymore',\n",
       " 'after',\n",
       " 'that',\n",
       " 'day',\n",
       " ',',\n",
       " 'and',\n",
       " 'the',\n",
       " 'seller',\n",
       " 'was',\n",
       " 'happy',\n",
       " '.']"
      ]
     },
     "execution_count": 56,
     "metadata": {},
     "output_type": "execute_result"
    }
   ],
   "source": [
    "#Lowering all the text-->\n",
    "[w.text.lower() for t in sentence_list for w in t ]"
   ]
  },
  {
   "cell_type": "code",
   "execution_count": 58,
   "metadata": {},
   "outputs": [
    {
     "data": {
      "text/plain": [
       "[A salt seller used to carry the salt bag on his donkey to the market every day.\n",
       " ,\n",
       " On the way they had to cross a stream.,\n",
       " One day the donkey suddenly tumbled down the stream and the salt bag also fell into the water.,\n",
       " The salt dissolved in the water and hence the bag became very light to carry.,\n",
       " The donkey was happy.\n",
       " ,\n",
       " Then the donkey started to play the same trick every day.\n",
       " ,\n",
       " The salt seller came to understand the trick and decided to teach a lesson to it.,\n",
       " The next day he loaded a cotton bag on the donkey.\n",
       " ,\n",
       " Again it played the same trick hoping that the cotton bag would be still become lighter.\n",
       " ,\n",
       " But the dampened cotton became very heavy to carry and the donkey suffered.,\n",
       " It learnt a lesson.,\n",
       " It didn’t play the trick anymore after that day, and the seller was happy.]"
      ]
     },
     "execution_count": 58,
     "metadata": {},
     "output_type": "execute_result"
    }
   ],
   "source": [
    "sentence_list"
   ]
  },
  {
   "cell_type": "code",
   "execution_count": 73,
   "metadata": {},
   "outputs": [],
   "source": [
    "#Calculating Sentence Scores-->\n",
    "sentence_scores={}\n",
    "for sentence in sentence_list:\n",
    "    for word in sentence:\n",
    "        if word.text in word_freq.keys():\n",
    "            if len(sentence.text.split(' ')) < 30:\n",
    "                if sentence not in sentence_scores.keys():\n",
    "                    sentence_scores[sentence] = word_freq[word.text]\n",
    "                else:\n",
    "                    sentence_scores[sentence] += word_freq[word.text]"
   ]
  },
  {
   "cell_type": "code",
   "execution_count": 74,
   "metadata": {},
   "outputs": [
    {
     "data": {
      "text/plain": [
       "{A salt seller used to carry the salt bag on his donkey to the market every day.\n",
       " : 4.25,\n",
       " On the way they had to cross a stream.: 1.4166666666666665,\n",
       " One day the donkey suddenly tumbled down the stream and the salt bag also fell into the water.: 3.4166666666666665,\n",
       " The salt dissolved in the water and hence the bag became very light to carry.: 2.75,\n",
       " The donkey was happy.\n",
       " : 2.4166666666666665,\n",
       " Then the donkey started to play the same trick every day.\n",
       " : 3.0,\n",
       " The salt seller came to understand the trick and decided to teach a lesson to it.: 2.833333333333333,\n",
       " The next day he loaded a cotton bag on the donkey.\n",
       " : 3.4166666666666665,\n",
       " Again it played the same trick hoping that the cotton bag would be still become lighter.\n",
       " : 2.7499999999999996,\n",
       " But the dampened cotton became very heavy to carry and the donkey suffered.: 2.333333333333333,\n",
       " It learnt a lesson.: 1.4166666666666665,\n",
       " It didn’t play the trick anymore after that day, and the seller was happy.: 2.666666666666667}"
      ]
     },
     "execution_count": 74,
     "metadata": {},
     "output_type": "execute_result"
    }
   ],
   "source": [
    "#Displaying All the Sentence Scores-->\n",
    "sentence_scores"
   ]
  },
  {
   "cell_type": "code",
   "execution_count": 75,
   "metadata": {},
   "outputs": [],
   "source": [
    "#Finding Top N sentences using heapq-->\n",
    "from heapq import nlargest"
   ]
  },
  {
   "cell_type": "code",
   "execution_count": 78,
   "metadata": {},
   "outputs": [],
   "source": [
    "sum_sentences = nlargest(10, sentence_scores, key=sentence_scores.get)"
   ]
  },
  {
   "cell_type": "code",
   "execution_count": 80,
   "metadata": {},
   "outputs": [
    {
     "data": {
      "text/plain": [
       "[A salt seller used to carry the salt bag on his donkey to the market every day.\n",
       " ,\n",
       " One day the donkey suddenly tumbled down the stream and the salt bag also fell into the water.,\n",
       " The next day he loaded a cotton bag on the donkey.\n",
       " ,\n",
       " Then the donkey started to play the same trick every day.\n",
       " ,\n",
       " The salt seller came to understand the trick and decided to teach a lesson to it.,\n",
       " The salt dissolved in the water and hence the bag became very light to carry.,\n",
       " Again it played the same trick hoping that the cotton bag would be still become lighter.\n",
       " ,\n",
       " It didn’t play the trick anymore after that day, and the seller was happy.,\n",
       " The donkey was happy.\n",
       " ,\n",
       " But the dampened cotton became very heavy to carry and the donkey suffered.]"
      ]
     },
     "execution_count": 80,
     "metadata": {},
     "output_type": "execute_result"
    }
   ],
   "source": [
    "sum_sentences"
   ]
  },
  {
   "cell_type": "code",
   "execution_count": 84,
   "metadata": {},
   "outputs": [
    {
     "name": "stdout",
     "output_type": "stream",
     "text": [
      "A salt seller used to carry the salt bag on his donkey to the market every day.\n",
      "\n",
      "\n",
      "One day the donkey suddenly tumbled down the stream and the salt bag also fell into the water.\n",
      "The next day he loaded a cotton bag on the donkey.\n",
      "\n",
      "\n",
      "Then the donkey started to play the same trick every day.\n",
      "\n",
      "\n",
      "The salt seller came to understand the trick and decided to teach a lesson to it.\n",
      "The salt dissolved in the water and hence the bag became very light to carry.\n",
      "Again it played the same trick hoping that the cotton bag would be still become lighter.\n",
      "\n",
      "\n",
      "It didn’t play the trick anymore after that day, and the seller was happy.\n",
      "The donkey was happy.\n",
      "\n",
      "\n",
      "But the dampened cotton became very heavy to carry and the donkey suffered.\n"
     ]
    },
    {
     "data": {
      "text/plain": [
       "['A salt seller used to carry the salt bag on his donkey to the market every day.\\n\\n',\n",
       " 'One day the donkey suddenly tumbled down the stream and the salt bag also fell into the water.',\n",
       " 'The next day he loaded a cotton bag on the donkey.\\n\\n',\n",
       " 'Then the donkey started to play the same trick every day.\\n\\n',\n",
       " 'The salt seller came to understand the trick and decided to teach a lesson to it.',\n",
       " 'The salt dissolved in the water and hence the bag became very light to carry.',\n",
       " 'Again it played the same trick hoping that the cotton bag would be still become lighter.\\n\\n']"
      ]
     },
     "execution_count": 84,
     "metadata": {},
     "output_type": "execute_result"
    }
   ],
   "source": [
    "for w in sum_sentences:\n",
    "    print(w.text)\n",
    "    \n",
    "# List Comprehension of Sentences Converted From Spacy.span to strings\n",
    "final_sentences = [ w.text for w in summarized_sentences ]    \n",
    "final_sentences    "
   ]
  },
  {
   "cell_type": "code",
   "execution_count": 86,
   "metadata": {},
   "outputs": [
    {
     "data": {
      "text/plain": [
       "'A salt seller used to carry the salt bag on his donkey to the market every day.\\n\\n One day the donkey suddenly tumbled down the stream and the salt bag also fell into the water. The next day he loaded a cotton bag on the donkey.\\n\\n Then the donkey started to play the same trick every day.\\n\\n The salt seller came to understand the trick and decided to teach a lesson to it. The salt dissolved in the water and hence the bag became very light to carry. Again it played the same trick hoping that the cotton bag would be still become lighter.\\n\\n'"
      ]
     },
     "execution_count": 86,
     "metadata": {},
     "output_type": "execute_result"
    }
   ],
   "source": [
    "summary = ' '.join(final_sentences)\n",
    "summary"
   ]
  },
  {
   "cell_type": "code",
   "execution_count": 87,
   "metadata": {},
   "outputs": [
    {
     "data": {
      "text/plain": [
       "540"
      ]
     },
     "execution_count": 87,
     "metadata": {},
     "output_type": "execute_result"
    }
   ],
   "source": [
    "len(summary)"
   ]
  },
  {
   "cell_type": "code",
   "execution_count": 88,
   "metadata": {},
   "outputs": [
    {
     "data": {
      "text/plain": [
       "769"
      ]
     },
     "execution_count": 88,
     "metadata": {},
     "output_type": "execute_result"
    }
   ],
   "source": [
    "len(doc1)"
   ]
  }
 ],
 "metadata": {
  "kernelspec": {
   "display_name": "Python 3",
   "language": "python",
   "name": "python3"
  },
  "language_info": {
   "codemirror_mode": {
    "name": "ipython",
    "version": 3
   },
   "file_extension": ".py",
   "mimetype": "text/x-python",
   "name": "python",
   "nbconvert_exporter": "python",
   "pygments_lexer": "ipython3",
   "version": "3.7.4"
  }
 },
 "nbformat": 4,
 "nbformat_minor": 2
}
